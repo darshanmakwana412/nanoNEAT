{
 "cells": [
  {
   "cell_type": "markdown",
   "id": "7f1f5ea7",
   "metadata": {},
   "source": [
    "## Genome"
   ]
  },
  {
   "cell_type": "code",
   "execution_count": 2,
   "id": "fdf581af",
   "metadata": {},
   "outputs": [],
   "source": [
    "from typing import List, Dict\n",
    "import random\n",
    "\n",
    "class NeuronGene:\n",
    "    def __init__(self, neuron_id: int, ntype: str = \"hidden\", bias: float = 0, activation: str = \"relu\") -> None:\n",
    "        self.neuron_id = neuron_id\n",
    "        self.type = ntype # input | output | hidden\n",
    "#         self.bias = bias\n",
    "        self.bias = 0\n",
    "        self.activation = activation\n",
    "        \n",
    "    def __str__(self) -> str:\n",
    "        return f\"NeuronGene: {self.neuron_id}\\n    Type: {self.type}\\n    Bias: {self.bias}\\n    Activation: {self.activation}\"\n",
    "        \n",
    "class LinkGene:\n",
    "    def __init__(self, input_id: int, output_id: int, weight: float = 0, is_enabled: bool = True) -> None:\n",
    "        self.input_id = input_id\n",
    "        self.output_id = output_id\n",
    "        self.weight = weight\n",
    "        self.is_enabled = is_enabled\n",
    "        \n",
    "    def __str__(self) -> str:\n",
    "        return f\"NeuronGene:\\n    input_id: {self.input_id}\\n    output_id: {self.output_id}\\n    weight: {self.weight}\\n    is_enabled: {self.is_enabled}\"\n",
    "        \n",
    "class Genome:\n",
    "    def __init__(self, genome_id: int, num_inputs: int, num_outputs: int) -> None:\n",
    "        self.genome_id = genome_id\n",
    "        self.num_inputs = num_inputs\n",
    "        self.num_outputs = num_outputs\n",
    "        \n",
    "        self.neurons = []\n",
    "        self.links = []\n",
    "        \n",
    "    def add_neuron(self, neuron: NeuronGene) -> None:\n",
    "        self.neurons.append(neuron)\n",
    "        \n",
    "    def add_link(self, link: LinkGene) -> None:\n",
    "        self.links.append(link)\n",
    "        \n",
    "    def make_input_ids(self) -> List[int]:\n",
    "        return [n.neuron_id for n in self.neurons if n.type == \"input\"]\n",
    "    \n",
    "    def make_output_ids(self) -> List[int]:\n",
    "        return [n.neuron_id for n in self.neurons if n.type == \"output\"]\n",
    "    \n",
    "    def __str__(self) -> str:\n",
    "        input_neurons = len([n.neuron_id for n in self.neurons if n.type == \"input\"])\n",
    "        output_neurons = len([n.neuron_id for n in self.neurons if n.type == \"output\"])\n",
    "        hidden_neurons = len([n.neuron_id for n in self.neurons if n.type == \"hidden\"])\n",
    "        num_links = len(self.links)\n",
    "        return f\"Genome: {self.genome_id}\\n    input neurons: {input_neurons}\\n    output neurons: {output_neurons}\\n    hidden neurons: {hidden_neurons}\\n    num links: {num_links}\"\n",
    "        \n",
    "class Individual:\n",
    "    def __init__(self, genome: Genome, fitness: float) -> None:\n",
    "        self.genome = genome\n",
    "        self.fitness = fitness"
   ]
  },
  {
   "cell_type": "markdown",
   "id": "019afc6a",
   "metadata": {},
   "source": [
    "## Crossover"
   ]
  },
  {
   "cell_type": "code",
   "execution_count": 3,
   "id": "291e254b",
   "metadata": {},
   "outputs": [],
   "source": [
    "def crossover_neuron(gene1: NeuronGene, gene2: NeuronGene) -> NeuronGene:\n",
    "    # Ensure the crossover occurs between neurons of the same type from two individuals\n",
    "    assert(gene1.neuron_id == gene2.neuron_id)\n",
    "    assert(gene1.type == gene2.type)\n",
    "    neuron_id = gene1.neuron_id\n",
    "    # Randomly choose the bias and activations from either of the parents\n",
    "    bias = random.choice([gene1.bias, gene2.bias])\n",
    "    activation = random.choice([gene1.activation, gene2.activation])\n",
    "    return NeuronGene(neuron_id, gene1.type, bias, activation)\n",
    "\n",
    "def crossover_link(gene1: LinkGene, gene2: LinkGene) -> LinkGene:\n",
    "    # Ensure the crossover occurs between neurons of the same type from two individuals\n",
    "    assert(gene1.input_id == gene2.input_id)\n",
    "    assert(gene1.output_id == gene2.output_id)\n",
    "    input_id = gene1.input_id\n",
    "    output_id = gene2.output_id\n",
    "    # Randomly choose the bias and activations from either of the parents\n",
    "    weight = random.choice([gene1.weight, gene2.weight])\n",
    "    is_enabled = random.choice([gene1.is_enabled, gene2.is_enabled])\n",
    "    return LinkGene(input_id, output_id, weight, is_enabled)\n",
    "\n",
    "def crossover(dominant: Individual, recessive: Individual, genome_id: int) -> Genome:\n",
    "    \n",
    "    offspring = Genome(genome_id, dominant.genome.num_inputs, dominant.genome.num_outputs)\n",
    "    \n",
    "    # Inherit neuron gene\n",
    "    for dominant_neuron in dominant.genome.neurons:\n",
    "        \n",
    "        neuron_id = dominant_neuron.neuron_id\n",
    "        recessive_neuron = next((neuron for neuron in recessive.genome.neurons if neuron.neuron_id == neuron_id), None)\n",
    "        \n",
    "        if recessive_neuron:\n",
    "            offspring.neurons.append(crossover_neuron(dominant_neuron, recessive_neuron))\n",
    "        else:\n",
    "            offspring.neurons.append(dominant_neuron)\n",
    "            \n",
    "    # Inherit link gene\n",
    "    for dominant_link in dominant.genome.links:\n",
    "        \n",
    "        input_id = dominant_link.input_id\n",
    "        output_id = dominant_link.output_id\n",
    "        recessive_link = next((link for link in recessive.genome.links if ((link.input_id == input_id) and (link.output_id == output_id))), None)\n",
    "        \n",
    "        if recessive_link:\n",
    "            offspring.links.append(crossover_link(dominant_link, recessive_link))\n",
    "        else:\n",
    "            offspring.links.append(dominant_link)\n",
    "            \n",
    "    return offspring\n",
    "\n",
    "# Test crossover_neuron\n",
    "# neuron_gene1 = NeuronGene(1, -1, \"Relu\")\n",
    "# neuron_gene2 = NeuronGene(1, 1, \"Tanh\")\n",
    "# print(neuron_gene1)\n",
    "# print(neuron_gene2)\n",
    "# child_neuron_gene = crossover_neuron(neuron_gene1, neuron_gene2)\n",
    "# print(child_neuron_gene)\n",
    "\n",
    "# Test crossover_link\n",
    "# link_gene1 = LinkGene(4, 8, 0.8, True)\n",
    "# link_gene2 = LinkGene(4, 8, -7.38, False)\n",
    "# print(link_gene1)\n",
    "# print(link_gene2)\n",
    "# child_link_gene = crossover_link(link_gene1, link_gene2)\n",
    "# print(child_link_gene)\n",
    "\n",
    "# Test crossover\n",
    "# genome1 = NeuronGene(1, -1, \"Relu\")\n",
    "# neuron_gene2 = NeuronGene(1, 1, \"Tanh\")\n",
    "# print(neuron_gene1)\n",
    "# print(neuron_gene2)\n",
    "# child_neuron_gene = crossover_neuron(neuron_gene1, neuron_gene2)\n",
    "# print(child_neuron_gene)"
   ]
  },
  {
   "cell_type": "markdown",
   "id": "1772416a",
   "metadata": {},
   "source": [
    "## Mutation"
   ]
  },
  {
   "cell_type": "code",
   "execution_count": 4,
   "id": "128ae6f5",
   "metadata": {},
   "outputs": [],
   "source": [
    "import random\n",
    "\n",
    "\"\"\"\n",
    "There are 4 types of structural mutations that can occur in the genome\n",
    "- Add a link between two neuron (`mutate_add_link`)\n",
    "- Remove a link between two neurons (`mutate_remove_link`)\n",
    "- Add a new hidden neuron (`mutate_add_neuron`)\n",
    "- Remove a hidden neuron (`mutate_remove_neuron`)\n",
    "\n",
    "Non structural mutations occur by randomly changing properties of the link or neuron\n",
    "\n",
    "To Do:\n",
    "- [*] create a function `would_create_cycle` for checking cycles\n",
    "    No need for cycle checking as the new implementation uses an iterative graph traversal\n",
    "- [*] create a link mutator object `link_mutator` for generating new weights smartly\n",
    "    Creating new weights using the `new_value` function of `population` class\n",
    "- [*] create a neuron mutator object `neuron_mutator` for generating new neurons smartly\n",
    "\"\"\"\n",
    "\n",
    "\"\"\"\n",
    "    Structural Mutations\n",
    "\"\"\"\n",
    "\n",
    "def mutate_add_link(genome: Genome, weight: float) -> None:\n",
    "    \"\"\"\n",
    "        Adds a new link to the genome (or enables an existing one), ensuring no cycles\n",
    "\n",
    "        Args:\n",
    "        genome: The genome to mutate.\n",
    "    \"\"\"\n",
    "\n",
    "    input_id = random.choice([n.neuron_id for n in genome.neurons if n.type != \"output\"])\n",
    "    output_id = random.choice([n.neuron_id for n in genome.neurons if n.type != \"input\"])\n",
    "\n",
    "    # Check for existing link\n",
    "    for link in genome.links:\n",
    "        if link.input_id == input_id and link.output_id == output_id:\n",
    "            link.is_enabled = True  # Enable if found\n",
    "            return\n",
    "\n",
    "    # Assuming you have a 'link_mutator' object for generating new weights\n",
    "#     weight = link_mutator.new_value(input_id, output_id)\n",
    "    new_link = LinkGene(input_id, output_id, weight, True)  # Enabled by default\n",
    "    genome.links.append(new_link)\n",
    "\n",
    "def mutate_remove_link(genome: Genome):\n",
    "    \"\"\"\n",
    "        Removes a randomly choosen link from the genome\n",
    "\n",
    "        Args:\n",
    "        genome: The genome to mutate.\n",
    "    \"\"\"\n",
    "\n",
    "    # Check if there are any links to remove\n",
    "    if len(genome.links) == 0:\n",
    "        return\n",
    "    \n",
    "    link = random.choice(genome.links)\n",
    "    genome.links.remove(link)\n",
    "    \n",
    "def mutate_add_neuron(genome: Genome, bias: float = 0, activation: str = \"relu\"):\n",
    "    \"\"\"\n",
    "        Adds a new neuron to the genome by splitting a random link.\n",
    "\n",
    "        Args:\n",
    "        genome: The genome to mutate.\n",
    "    \"\"\"\n",
    "\n",
    "    # Check if there are any links to split\n",
    "    if len(genome.links) == 0:\n",
    "        return\n",
    "\n",
    "    # Choose a random link to split\n",
    "    link_to_split = random.choice(genome.links)\n",
    "    link_to_split.is_enabled = False  # Disable the chosen link\n",
    "\n",
    "    # Create a new neuron\n",
    "#     new_neuron = neuron_mutator.new_neuron()\n",
    "    new_neuron = NeuronGene(len(genome.neurons), \"hidden\", bias, activation)  # Assuming bias and activation logic\n",
    "    genome.neurons.append(new_neuron)\n",
    "\n",
    "    # Create new links from the split point to the new neuron and the original output\n",
    "    genome.links.append(LinkGene(link_to_split.input_id, new_neuron.neuron_id, 1, True))\n",
    "    genome.links.append(LinkGene(new_neuron.neuron_id, link_to_split.output_id, link_to_split.weight, True))\n",
    "    \n",
    "def mutate_remove_neuron(genome: Genome):\n",
    "    \"\"\"\n",
    "        Removes a randomly chosen hidden neuron from the genome and removes associated links.\n",
    "\n",
    "        Args:\n",
    "        genome: The genome to mutate.\n",
    "    \"\"\"\n",
    "    \n",
    "    hidden_neurons = [n for n in genome.neurons if n.type == \"hidden\"]\n",
    "    if len(hidden_neurons) == 0:\n",
    "        return\n",
    "\n",
    "    # Choose a random hidden neuron\n",
    "    neuron_to_remove = random.choice(hidden_neurons)\n",
    "\n",
    "    # Remove associated links\n",
    "    links_to_remove = [\n",
    "        link for link in genome.links if ((link.input_id == neuron_to_remove.neuron_id) and (link.output_id == neuron_to_remove.neuron_id))\n",
    "    ]\n",
    "    for link in links_to_remove:\n",
    "        genome.links.remove(link)\n",
    "\n",
    "    # Remove the neuron itself\n",
    "    genome.neurons.remove(neuron_to_remove)"
   ]
  },
  {
   "cell_type": "markdown",
   "id": "8eb7476b",
   "metadata": {},
   "source": [
    "## Neural Network"
   ]
  },
  {
   "cell_type": "code",
   "execution_count": 5,
   "id": "b31cddfa",
   "metadata": {},
   "outputs": [
    {
     "name": "stdout",
     "output_type": "stream",
     "text": [
      "Genome: 0\n",
      "    input neurons: 100\n",
      "    output neurons: 1\n",
      "    hidden neurons: 0\n",
      "    num links: 100\n",
      "Num iterations: 200\n",
      "Max Queue len: 100\n"
     ]
    }
   ],
   "source": [
    "from collections import deque\n",
    "import numpy as np\n",
    "import random\n",
    "import math\n",
    "\n",
    "class Node:\n",
    "    def __init__(self, node_id: int, ntype: str, bias: float, activation: str) -> None:\n",
    "        self.node_id = node_id\n",
    "        self.type = ntype\n",
    "        self.bias = bias\n",
    "        self.activation = activation\n",
    "        self.inputs = []\n",
    "        self.outputs = []\n",
    "        self.value = None\n",
    "        \n",
    "    def add_input(self, input_id, weight) -> None:\n",
    "        self.inputs.append((input_id, weight))\n",
    "        \n",
    "    def add_output(self, output_id, weight) -> None:\n",
    "        self.outputs.append((output_id, weight))\n",
    "\n",
    "class Graph:\n",
    "    def __init__(self, genome: Genome):\n",
    "        \n",
    "        self.genome = genome\n",
    "        self.nodes = dict()\n",
    "        \n",
    "        for n in genome.neurons:\n",
    "            self.nodes[n.neuron_id] = Node(n.neuron_id, n.type, n.bias, n.activation)\n",
    "            \n",
    "        for link in genome.links:\n",
    "            input_id = link.input_id\n",
    "            output_id = link.output_id\n",
    "            weight = link.weight\n",
    "            \n",
    "            if link.is_enabled:\n",
    "                self.nodes[input_id].add_output(output_id, weight)\n",
    "                self.nodes[output_id].add_input(input_id, weight)\n",
    "            \n",
    "    def forward(self, inputs: List[float], verbose: bool = False) -> List[float]:\n",
    "        \n",
    "        input_ids = self.genome.make_input_ids()\n",
    "        output_ids = self.genome.make_output_ids()\n",
    "        neurons = self.genome.neurons\n",
    "\n",
    "        neuron_queue = deque(input_ids)\n",
    "        \n",
    "        assert (len(inputs) == len(input_ids)), f\"Size of input should match the size of input neurons in genome, Size of input: {len(inputs)}, Size of input neurons: {len(input_ids)}\"\n",
    "        \n",
    "        for value, input_id in zip(inputs, input_ids):\n",
    "            self.nodes[input_id].value = value\n",
    "        \n",
    "        if verbose:\n",
    "            num_iter = 0\n",
    "            max_len = 0\n",
    "        while len(neuron_queue):\n",
    "            \n",
    "            nid = neuron_queue.popleft()\n",
    "            node = self.nodes[nid]\n",
    "            \n",
    "            status = self.node_pass(node)\n",
    "            \n",
    "            for (output_id, weight) in node.outputs:\n",
    "                if self.nodes[output_id].value == None:\n",
    "                    neuron_queue.append(output_id)\n",
    "                    \n",
    "            if not status:\n",
    "                neuron_queue.append(nid)\n",
    "            \n",
    "            if verbose:\n",
    "                max_len = max(max_len, len(neuron_queue))\n",
    "                num_iter += 1\n",
    "            \n",
    "        outputs = []\n",
    "        for output_id in output_ids:\n",
    "            value = self.nodes[output_id].value\n",
    "            assert(value != None)\n",
    "            outputs.append(value)\n",
    "        \n",
    "        if verbose:\n",
    "            print(f\"Num iterations: {num_iter}\")\n",
    "            print(f\"Max Queue len: {max_len}\")\n",
    "            \n",
    "        return outputs\n",
    "            \n",
    "    def node_pass(self, node):\n",
    "        \n",
    "        if node.type != \"input\" and node.value == None:\n",
    "            \n",
    "            value = 0\n",
    "            for (input_id, weight) in node.inputs:\n",
    "                input_value = self.nodes[input_id].value\n",
    "                if input_value == None:\n",
    "                    return False\n",
    "                value += input_value * weight\n",
    "            value += node.bias\n",
    "            value = self.activate(value, node.activation)\n",
    "            node.value = value\n",
    "            \n",
    "        return True\n",
    "                    \n",
    "    def activate(self, x: int, activation: str, alpha: float = 0.01) -> float:\n",
    "        \n",
    "        if activation == \"sigmoid\":\n",
    "            return 1 / (1 + math.exp(-x))\n",
    "        elif activation == \"tanh\":\n",
    "            return math.tanh(x)\n",
    "        elif activation == \"relu\":\n",
    "            return max(x, 0)\n",
    "        elif activation == \"leaky_relu\":\n",
    "            return max(alpha * x, x)\n",
    "        else:\n",
    "            raise Exception(\"Undefined activation function\")\n",
    "\n",
    "num_inputs = 100\n",
    "num_outputs = 1\n",
    "genome = Genome(0, num_inputs, num_outputs)\n",
    "\n",
    "for neuron_id in range(-num_inputs, 0):\n",
    "    genome.add_neuron(NeuronGene(neuron_id, \"input\"))\n",
    "\n",
    "for neuron_id in range(num_outputs):\n",
    "    genome.add_neuron(NeuronGene(neuron_id, \"output\"))\n",
    "\n",
    "for input_id in range(-num_inputs, 0):\n",
    "    for output_id in range(num_outputs):\n",
    "        genome.add_link(LinkGene(input_id, output_id))\n",
    "        \n",
    "print(genome)\n",
    "            \n",
    "graph = Graph(genome)\n",
    "inputs = np.random.randn(num_inputs)\n",
    "outputs = graph.forward(inputs, True)"
   ]
  },
  {
   "cell_type": "markdown",
   "id": "89736c08",
   "metadata": {},
   "source": [
    "## Simulation"
   ]
  },
  {
   "cell_type": "code",
   "execution_count": 6,
   "id": "e65cc29e",
   "metadata": {},
   "outputs": [],
   "source": [
    "import matplotlib.pyplot as plt\n",
    "from typing import List\n",
    "import random\n",
    "import copy\n",
    "\n",
    "\"\"\"\n",
    "To Do\n",
    "- [ ] Smartly initialize the network weights\n",
    "- [ ] While choosing random parents ensure that we don't take a single individual twice\n",
    "\"\"\"\n",
    "\n",
    "class Population:\n",
    "    def __init__(self, config):\n",
    "        self.config = config\n",
    "        self.individuals = []\n",
    "        self.genome_counter = 0\n",
    "\n",
    "        for _ in range(self.config.population_size):\n",
    "            self.individuals.append(Individual(self.new_genome(), self.config.kFitnessNotComputed))\n",
    "            \n",
    "    def next_genome_id(self):\n",
    "        self.genome_counter += 1\n",
    "        return self.genome_counter - 1\n",
    "\n",
    "    def new_genome(self):\n",
    "\n",
    "        genome = Genome(self.next_genome_id(), self.config.num_inputs, self.config.num_outputs)\n",
    "        \n",
    "        for neuron_id in range(-self.config.num_inputs, 0):\n",
    "            genome.add_neuron(NeuronGene(neuron_id, \"input\", self.new_value()))\n",
    "\n",
    "        for neuron_id in range(self.config.num_outputs):\n",
    "            genome.add_neuron(NeuronGene(neuron_id, \"output\", self.new_value()))\n",
    "\n",
    "        for input_id in range(-self.config.num_inputs, 0):\n",
    "            for output_id in range(self.config.num_outputs):\n",
    "                genome.add_link(LinkGene(input_id, output_id, self.new_value()))\n",
    "\n",
    "        return genome\n",
    "    \n",
    "    def run(self) -> Individual:\n",
    "        \n",
    "        self.history = []\n",
    "        \n",
    "        pbar = tqdm(range(self.config.num_generations))\n",
    "        for _ in pbar:\n",
    "            \n",
    "            info = self.config.compute_fitness(self.individuals)\n",
    "            avg_score = info[\"avg_scores\"]\n",
    "            pbar.set_description(f\"Avg Score: {avg_score}\")\n",
    "#             self.update_best()\n",
    "            self.individuals = self.reproduce()\n",
    "    \n",
    "            self.history.append(info)\n",
    "        \n",
    "        return self.individuals\n",
    "    \n",
    "    def reproduce(self) -> List[Individual]:\n",
    "        \n",
    "        # sort individuals by fitness\n",
    "        old_members = sorted(self.individuals, key= lambda x: x.fitness, reverse=True)\n",
    "        reproduction_cutoff = int(self.config.survival_threshold * len(old_members))\n",
    "        old_members = old_members[:reproduction_cutoff]\n",
    "        \n",
    "        new_generation = []\n",
    "        spawn_size = self.config.population_size\n",
    "        while spawn_size >= 0:\n",
    "            \n",
    "            parent1 = random.choice(old_members)\n",
    "            parent2 = random.choice(old_members)\n",
    "\n",
    "            offspring = crossover(copy.deepcopy(parent1), copy.deepcopy(parent2), self.next_genome_id())\n",
    "#             self.mutate(offspring)\n",
    "            new_generation.append(Individual(offspring, self.config.kFitnessNotComputed))\n",
    "            \n",
    "            spawn_size -= 1\n",
    "        \n",
    "        return new_generation\n",
    "    \n",
    "    def mutate(self, genome: Genome):\n",
    "        \n",
    "        if random.random() < self.config.prob_add_link:\n",
    "            mutate_add_link(genome, self.new_value())\n",
    "\n",
    "        if random.random() < self.config.prob_remove_link:\n",
    "            mutate_remove_link(genome)\n",
    "            \n",
    "        if random.random() < self.config.prob_add_neuron:\n",
    "            mutate_add_neuron(genome)\n",
    "        \n",
    "        if random.random() < self.config.prob_remove_neuron:\n",
    "            mutate_remove_neuron(genome)\n",
    "            \n",
    "        for link in genome.links:\n",
    "            if random.random() < self.config.mutation_rate:\n",
    "                link.weight = self.mutate_delta(link.weight)\n",
    "            \n",
    "    def new_value(self):\n",
    "        return self.clamp(random.gauss(self.config.init_mean, self.config.init_stdev))\n",
    "\n",
    "    def mutate_delta(self, value):\n",
    "        delta = self.clamp(random.gauss(0.0, self.config.mutate_power))\n",
    "        return self.clamp(value + delta)\n",
    "\n",
    "    def clamp(self, x):\n",
    "        return min(self.config.max, max(self.config.min, x))\n",
    "    \n",
    "    def plot(self):\n",
    "        max_scores = [info[\"max_scores\"] for info in self.history]\n",
    "        avg_scores = [info[\"avg_scores\"] for info in self.history]\n",
    "        min_scores = [info[\"min_scores\"] for info in self.history]\n",
    "        \n",
    "        # Creating a figure and a set of subplots\n",
    "        fig, axs = plt.subplots(1, 3, figsize=(15, 5))\n",
    "\n",
    "        # Plotting on each subplot\n",
    "        axs[0].plot(max_scores)\n",
    "        axs[0].set_title('Max Score vs Generation')\n",
    "\n",
    "        axs[1].plot(avg_scores)\n",
    "        axs[1].set_title('Avg Score vs Generation')\n",
    "\n",
    "        # For tan(x), limiting the y-axis due to the function's asymptotic nature\n",
    "        axs[2].plot(min_scores)\n",
    "        axs[2].set_title('Min Score vs Generation')\n",
    "\n",
    "        # Adjusting layout to prevent overlap\n",
    "        plt.tight_layout()\n",
    "\n",
    "        plt.show()"
   ]
  },
  {
   "cell_type": "code",
   "execution_count": null,
   "id": "2b493c0a",
   "metadata": {},
   "outputs": [],
   "source": []
  },
  {
   "cell_type": "markdown",
   "id": "cd048304",
   "metadata": {},
   "source": [
    "## Environment"
   ]
  },
  {
   "cell_type": "code",
   "execution_count": 10,
   "id": "2e256b5a",
   "metadata": {},
   "outputs": [
    {
     "name": "stderr",
     "output_type": "stream",
     "text": [
      "/tmp/ipykernel_509/2806400302.py:109: RuntimeWarning: More than 20 figures have been opened. Figures created through the pyplot interface (`matplotlib.pyplot.figure`) are retained until explicitly closed and may consume too much memory. (To control this warning, see the rcParam `figure.max_open_warning`). Consider using `matplotlib.pyplot.close()`.\n",
      "  fig, ax = plt.subplots(figsize=(5, 5))\n"
     ]
    },
    {
     "data": {
      "image/png": "[encoded data removed]",
      "text/plain": [
       "<Figure size 500x500 with 1 Axes>"
      ]
     },
     "metadata": {},
     "output_type": "display_data"
    },
    {
     "data": {
      "image/png": "[encoded data removed]",
      "text/plain": [
       "<Figure size 500x500 with 1 Axes>"
      ]
     },
     "metadata": {},
     "output_type": "display_data"
    },
    {
     "data": {
      "image/png": "[encoded data removed]",
      "text/plain": [
       "<Figure size 500x500 with 1 Axes>"
      ]
     },
     "metadata": {},
     "output_type": "display_data"
    },
    {
     "data": {
      "image/png": "[encoded data removed]",
      "text/plain": [
       "<Figure size 500x500 with 1 Axes>"
      ]
     },
     "metadata": {},
     "output_type": "display_data"
    },
    {
     "data": {
      "image/png": "[encoded data removed]",
      "text/plain": [
       "<Figure size 500x500 with 1 Axes>"
      ]
     },
     "metadata": {},
     "output_type": "display_data"
    },
    {
     "data": {
      "image/png": "[encoded data removed]",
      "text/plain": [
       "<Figure size 500x500 with 1 Axes>"
      ]
     },
     "metadata": {},
     "output_type": "display_data"
    },
    {
     "data": {
      "image/png": "[encoded data removed]",
      "text/plain": [
       "<Figure size 500x500 with 1 Axes>"
      ]
     },
     "metadata": {},
     "output_type": "display_data"
    },
    {
     "data": {
      "image/png": "[encoded data removed]",
      "text/plain": [
       "<Figure size 500x500 with 1 Axes>"
      ]
     },
     "metadata": {},
     "output_type": "display_data"
    },
    {
     "data": {
      "image/png": "[encoded data removed]",
      "text/plain": [
       "<Figure size 500x500 with 1 Axes>"
      ]
     },
     "metadata": {},
     "output_type": "display_data"
    },
    {
     "data": {
      "image/png": "[encoded data removed]",
      "text/plain": [
       "<Figure size 500x500 with 1 Axes>"
      ]
     },
     "metadata": {},
     "output_type": "display_data"
    },
    {
     "data": {
      "image/png": "[encoded data removed]",
      "text/plain": [
       "<Figure size 500x500 with 1 Axes>"
      ]
     },
     "metadata": {},
     "output_type": "display_data"
    },
    {
     "data": {
      "image/png": "[encoded data removed]",
      "text/plain": [
       "<Figure size 500x500 with 1 Axes>"
      ]
     },
     "metadata": {},
     "output_type": "display_data"
    },
    {
     "data": {
      "image/png": "[encoded data removed]",
      "text/plain": [
       "<Figure size 500x500 with 1 Axes>"
      ]
     },
     "metadata": {},
     "output_type": "display_data"
    },
    {
     "data": {
      "image/png": "[encoded data removed]",
      "text/plain": [
       "<Figure size 500x500 with 1 Axes>"
      ]
     },
     "metadata": {},
     "output_type": "display_data"
    },
    {
     "data": {
      "image/png": "[encoded data removed]",
      "text/plain": [
       "<Figure size 500x500 with 1 Axes>"
      ]
     },
     "metadata": {},
     "output_type": "display_data"
    },
    {
     "data": {
      "image/png": "[encoded data removed]",
      "text/plain": [
       "<Figure size 500x500 with 1 Axes>"
      ]
     },
     "metadata": {},
     "output_type": "display_data"
    },
    {
     "data": {
      "image/png": "[encoded data removed]",
      "text/plain": [
       "<Figure size 500x500 with 1 Axes>"
      ]
     },
     "metadata": {},
     "output_type": "display_data"
    },
    {
     "data": {
      "image/png": "[encoded data removed]",
      "text/plain": [
       "<Figure size 500x500 with 1 Axes>"
      ]
     },
     "metadata": {},
     "output_type": "display_data"
    },
    {
     "data": {
      "image/png": "[encoded data removed]",
      "text/plain": [
       "<Figure size 500x500 with 1 Axes>"
      ]
     },
     "metadata": {},
     "output_type": "display_data"
    },
    {
     "data": {
      "image/png": "[encoded data removed]",
      "text/plain": [
       "<Figure size 500x500 with 1 Axes>"
      ]
     },
     "metadata": {},
     "output_type": "display_data"
    },
    {
     "data": {
      "image/png": "[encoded data removed]",
      "text/plain": [
       "<Figure size 500x500 with 1 Axes>"
      ]
     },
     "metadata": {},
     "output_type": "display_data"
    },
    {
     "data": {
      "image/png": "[encoded data removed]",
      "text/plain": [
       "<Figure size 500x500 with 1 Axes>"
      ]
     },
     "metadata": {},
     "output_type": "display_data"
    },
    {
     "data": {
      "image/png": "[encoded data removed]",
      "text/plain": [
       "<Figure size 500x500 with 1 Axes>"
      ]
     },
     "metadata": {},
     "output_type": "display_data"
    },
    {
     "data": {
      "image/png": "[encoded data removed]",
      "text/plain": [
       "<Figure size 500x500 with 1 Axes>"
      ]
     },
     "metadata": {},
     "output_type": "display_data"
    },
    {
     "data": {
      "image/png": "[encoded data removed]",
      "text/plain": [
       "<Figure size 500x500 with 1 Axes>"
      ]
     },
     "metadata": {},
     "output_type": "display_data"
    },
    {
     "data": {
      "image/png": "[encoded data removed]",
      "text/plain": [
       "<Figure size 500x500 with 1 Axes>"
      ]
     },
     "metadata": {},
     "output_type": "display_data"
    },
    {
     "data": {
      "image/png": "[encoded data removed]",
      "text/plain": [
       "<Figure size 500x500 with 1 Axes>"
      ]
     },
     "metadata": {},
     "output_type": "display_data"
    },
    {
     "data": {
      "image/png": "[encoded data removed]",
      "text/plain": [
       "<Figure size 500x500 with 1 Axes>"
      ]
     },
     "metadata": {},
     "output_type": "display_data"
    },
    {
     "data": {
      "image/png": "[encoded data removed]",
      "text/plain": [
       "<Figure size 500x500 with 1 Axes>"
      ]
     },
     "metadata": {},
     "output_type": "display_data"
    },
    {
     "data": {
      "image/png": "[encoded data removed]",
      "text/plain": [
       "<Figure size 500x500 with 1 Axes>"
      ]
     },
     "metadata": {},
     "output_type": "display_data"
    },
    {
     "data": {
      "image/png": "[encoded data removed]",
      "text/plain": [
       "<Figure size 500x500 with 1 Axes>"
      ]
     },
     "metadata": {},
     "output_type": "display_data"
    },
    {
     "data": {
      "image/png": "[encoded data removed]",
      "text/plain": [
       "<Figure size 500x500 with 1 Axes>"
      ]
     },
     "metadata": {},
     "output_type": "display_data"
    },
    {
     "data": {
      "image/png": "[encoded data removed]",
      "text/plain": [
       "<Figure size 500x500 with 1 Axes>"
      ]
     },
     "metadata": {},
     "output_type": "display_data"
    },
    {
     "data": {
      "image/png": "[encoded data removed]",
      "text/plain": [
       "<Figure size 500x500 with 1 Axes>"
      ]
     },
     "metadata": {},
     "output_type": "display_data"
    },
    {
     "data": {
      "image/png": "[encoded data removed]",
      "text/plain": [
       "<Figure size 500x500 with 1 Axes>"
      ]
     },
     "metadata": {},
     "output_type": "display_data"
    },
    {
     "data": {
      "image/png": "[encoded data removed]",
      "text/plain": [
       "<Figure size 500x500 with 1 Axes>"
      ]
     },
     "metadata": {},
     "output_type": "display_data"
    },
    {
     "data": {
      "image/png": "[encoded data removed]",
      "text/plain": [
       "<Figure size 500x500 with 1 Axes>"
      ]
     },
     "metadata": {},
     "output_type": "display_data"
    },
    {
     "data": {
      "image/png": "[encoded data removed]",
      "text/plain": [
       "<Figure size 500x500 with 1 Axes>"
      ]
     },
     "metadata": {},
     "output_type": "display_data"
    },
    {
     "data": {
      "image/png": "[encoded data removed]",
      "text/plain": [
       "<Figure size 500x500 with 1 Axes>"
      ]
     },
     "metadata": {},
     "output_type": "display_data"
    },
    {
     "data": {
      "image/png": "[encoded data removed]",
      "text/plain": [
       "<Figure size 500x500 with 1 Axes>"
      ]
     },
     "metadata": {},
     "output_type": "display_data"
    },
    {
     "data": {
      "image/png": "[encoded data removed]",
      "text/plain": [
       "<Figure size 500x500 with 1 Axes>"
      ]
     },
     "metadata": {},
     "output_type": "display_data"
    },
    {
     "data": {
      "image/png": "[encoded data removed]",
      "text/plain": [
       "<Figure size 500x500 with 1 Axes>"
      ]
     },
     "metadata": {},
     "output_type": "display_data"
    },
    {
     "data": {
      "image/png": "[encoded data removed]",
      "text/plain": [
       "<Figure size 500x500 with 1 Axes>"
      ]
     },
     "metadata": {},
     "output_type": "display_data"
    },
    {
     "data": {
      "image/png": "[encoded data removed]",
      "text/plain": [
       "<Figure size 500x500 with 1 Axes>"
      ]
     },
     "metadata": {},
     "output_type": "display_data"
    }
   ],
   "source": [
    "import math\n",
    "import numpy as np\n",
    "import matplotlib.pyplot as plt\n",
    "from matplotlib import animation\n",
    "from IPython.display import display, clear_output\n",
    "\n",
    "class SnakeEnv:\n",
    "    def __init__(self, grid_size=(10, 10)):\n",
    "        self.grid_size = grid_size\n",
    "        self.reset()\n",
    "\n",
    "    def reset(self):\n",
    "        self.snake = [(np.random.randint(2, self.grid_size[0] - 2), np.random.randint(2, self.grid_size[1] - 2))]\n",
    "        self.food = None\n",
    "        self.direction = (0, 1)  # Moving right initially\n",
    "        self.score = 0\n",
    "        self._place_food()\n",
    "        return self._get_observation()\n",
    "\n",
    "    def _place_food(self):\n",
    "        while self.food is None or self.food in self.snake:\n",
    "            self.food = (np.random.randint(self.grid_size[0]), np.random.randint(self.grid_size[1]))\n",
    "\n",
    "    def step(self, action):\n",
    "        # Define action as a direction change: 0=left, 1=right, 2=up, 3=down\n",
    "        direction_changes = {0: (-1, 0), 1: (1, 0), 2: (0, -1), 3: (0, 1)}\n",
    "        self.direction = direction_changes[action]\n",
    "        new_head = (self.snake[0][0] + self.direction[0], self.snake[0][1] + self.direction[1])\n",
    "\n",
    "        # Check for game over conditions\n",
    "        if new_head in self.snake or new_head[0] < 0 or new_head[1] < 0 or new_head[0] >= self.grid_size[0] or new_head[1] >= self.grid_size[1]:\n",
    "            return self._get_observation(), 0, True, {}  # Game over\n",
    "\n",
    "        self.snake.insert(0, new_head)\n",
    "\n",
    "        # Check for food consumption\n",
    "        if new_head == self.food:\n",
    "            self.score += 1\n",
    "            self._place_food()\n",
    "            reward = 1\n",
    "        else:\n",
    "            self.snake.pop()\n",
    "            reward = 0\n",
    "\n",
    "        return self._get_observation(), reward, False, {}\n",
    "    \n",
    "    def hat(self, vec):\n",
    "        return np.array(np.array(vec) / math.sqrt(vec[0] ** 2 + vec[1] ** 2))\n",
    "\n",
    "#     def _get_observation(self):\n",
    "\n",
    "#         pos = self.hat([self.food[0] - self.snake[0][0], self.food[1] - self.snake[0][1]])\n",
    "#         dirc = np.array(self.direction)\n",
    "\n",
    "#         obs = [0, 0, 0, 0]\n",
    "        \n",
    "#         # up\n",
    "#         if np.all(pos - dirc == 0):\n",
    "#             obs[0] = 1\n",
    "        \n",
    "#         # Down\n",
    "#         if np.all(pos + dirc == 0):\n",
    "#             obs[1] = 1\n",
    "            \n",
    "#         if np.all(pos * dirc == 0):\n",
    "#             # Right\n",
    "#             if pos[0] * dirc[1] > 0:\n",
    "#                 obs[2] = 1\n",
    "#             else:\n",
    "#                 obs[3] = 1\n",
    "        \n",
    "#         return obs\n",
    "\n",
    "    def _get_observation(self):\n",
    "\n",
    "        pos = self.hat([self.food[0] - self.snake[0][0], self.food[1] - self.snake[0][1]])\n",
    "        dirc = np.array(self.direction)\n",
    "\n",
    "        obs = [0, 0, 0, 0]\n",
    "        \n",
    "        # up\n",
    "        if np.all(pos - dirc == 0):\n",
    "            obs[0] = 1\n",
    "        \n",
    "        # Down\n",
    "        if np.all(pos + dirc == 0):\n",
    "            obs[1] = 1\n",
    "            \n",
    "        if np.all(pos * dirc == 0):\n",
    "            # Right\n",
    "            if pos[0] * dirc[1] > 0:\n",
    "                obs[2] = 1\n",
    "            else:\n",
    "                obs[3] = 1\n",
    "        \n",
    "        return obs\n",
    "            \n",
    "        \n",
    "        \n",
    "#         # get the position of the unit y vector snake ref frame\n",
    "#         j_hat = (self.direction[0], -1 * self.direction[1])\n",
    "#         i_hat = (-1 * self.direction[1], -1 * self.direction[0])\n",
    "# # #         print(self.direction, self.snake[0], i_hat, j_hat)\n",
    "# #         print(\"snake head: \", self.snake[0])\n",
    "# #         print(\"snake dir: \", self.direction)\n",
    "#         obs = []\n",
    "#         for i in range(-5, 6):\n",
    "#             if i != 0:\n",
    "#                 pos = ( self.snake[0][0] + i * i_hat[0], self.snake[0][1] + i * i_hat[1])\n",
    "#                 if 0 <= pos[0] < self.grid_size[0] and 0 <= pos[1] < self.grid_size[1]:\n",
    "#                     if pos == self.food:\n",
    "#                         obs.append(1)\n",
    "#                     elif pos in self.snake:\n",
    "#                         obs.append(-1)\n",
    "#                     else:\n",
    "#                         obs.append(0)\n",
    "#                 else:\n",
    "#                     obs.append(-1)\n",
    "#         for i in range(-1, 2):\n",
    "#             pos = ( self.snake[0][0] + j_hat[0] + i * i_hat[0], self.snake[0][1] + j_hat[1] + i * i_hat[1])\n",
    "#             if 0 <= pos[0] < self.grid_size[0] and 0 <= pos[1] < self.grid_size[1]:\n",
    "#                 if pos == self.food:\n",
    "#                     obs.append(1)\n",
    "#                 elif pos in self.snake:\n",
    "#                     obs.append(-1)\n",
    "#                 else:\n",
    "#                     obs.append(0)\n",
    "#             else:\n",
    "#                 obs.append(-1)\n",
    "#         return np.array(obs)\n",
    "\n",
    "    def render(self):\n",
    "        fig, ax = plt.subplots(figsize=(5, 5))\n",
    "        ax.set_xlim(0, self.grid_size[0])\n",
    "        ax.set_ylim(0, self.grid_size[1])\n",
    "#         ax.set_xticks(range(self.grid_size[0]))\n",
    "#         ax.set_yticks(range(self.grid_size[1]))\n",
    "        ax.grid(False)\n",
    "        plt.axis('off')\n",
    "        # Plot snake\n",
    "        for part in self.snake:\n",
    "            ax.add_patch(plt.Rectangle(part, 1, 1, color=\"green\"))\n",
    "        # Plot food\n",
    "        ax.add_patch(plt.Rectangle(self.food, 1, 1, color=\"red\"))\n",
    "#         display(fig)\n",
    "#         clear_output(wait=True)\n",
    "#         plt.close()\n",
    "env = SnakeEnv()\n",
    "obs = env.reset()\n",
    "done = False\n",
    "\n",
    "while not done:\n",
    "#     action = np.random.randint(0, 4)\n",
    "    action = 2\n",
    "    obs, reward, done, info = env.step(action)\n",
    "\n",
    "    env.render()\n",
    "\n",
    "# genome = Population(Config()).new_genome()\n",
    "\n",
    "# env = SnakeEnv()\n",
    "# obs = env.reset()\n",
    "# done = False\n",
    "# scores = []\n",
    "\n",
    "# graph = Graph(genome)\n",
    "\n",
    "# # for _ in range(10000):\n",
    "# score = 0\n",
    "# while not done:\n",
    "\n",
    "#     outputs = graph.forward(obs)\n",
    "#     action = np.argmax(outputs)\n",
    "#     obs, reward, done, info = env.step(action)\n",
    "#     score += reward\n",
    "#     print(score)\n",
    "# #     scores.append(score)\n",
    "# # sum(scores)\n",
    "#     env.render()"
   ]
  },
  {
   "cell_type": "code",
   "execution_count": 8,
   "id": "99beee15",
   "metadata": {},
   "outputs": [
    {
     "name": "stderr",
     "output_type": "stream",
     "text": [
      "Avg Score: 0.18962075848303392: 100%|█████████| 100/100 [00:25<00:00,  3.96it/s]\n"
     ]
    },
    {
     "data": {
      "image/png": "[encoded data removed]",
      "text/plain": [
       "<Figure size 1500x500 with 3 Axes>"
      ]
     },
     "metadata": {},
     "output_type": "display_data"
    }
   ],
   "source": [
    "from tqdm import tqdm\n",
    "\n",
    "class Config:\n",
    "    def __init__(self):\n",
    "        \n",
    "        # simulation params\n",
    "        self.population_size = 500\n",
    "        self.num_generations = 100\n",
    "        self.survival_threshold = 0.2\n",
    "        self.max_episode_length = 10000\n",
    "        \n",
    "        # genome params\n",
    "        self.num_inputs = 4\n",
    "        self.num_outputs = 4\n",
    "        self.kFitnessNotComputed = 0\n",
    "        \n",
    "        # structural mutation params\n",
    "        self.prob_add_link = 0.5\n",
    "        self.prob_remove_link = 0.5\n",
    "        self.prob_add_neuron = 0.5\n",
    "        self.prob_remove_neuron = 0.5\n",
    "\n",
    "        # non structural mutation params\n",
    "        self.init_mean = 0.0\n",
    "        self.init_stdev = 1.0\n",
    "        self.min = -20.0\n",
    "        self.max = 20.0\n",
    "        self.mutation_rate = 0.1\n",
    "        self.mutate_power = 1.2\n",
    "        self.replace_rate = 0.05\n",
    "        \n",
    "    def compute_fitness(self, individuals) -> Dict:\n",
    "        \n",
    "        scores = []\n",
    "        lens = []\n",
    "        \n",
    "        for individual in individuals:\n",
    "            \n",
    "            env = SnakeEnv()\n",
    "            obs = env.reset()\n",
    "            done = False\n",
    "            \n",
    "            graph = Graph(individual.genome)\n",
    "            score = 0\n",
    "    \n",
    "            for i in range(self.max_episode_length):\n",
    "            \n",
    "                outputs = graph.forward(obs)\n",
    "                action = np.argmax(outputs)\n",
    "                obs, reward, done, info = env.step(action)\n",
    "                score += reward\n",
    "                \n",
    "                if done:\n",
    "                    break\n",
    "                    \n",
    "            individual.fitness = score\n",
    "            scores.append(score)\n",
    "            lens.append(i)\n",
    "            \n",
    "        return {\n",
    "            \"scores\": scores,\n",
    "            \"episode_lengths\": lens,\n",
    "            \"avg_scores\": sum(scores)/len(scores),\n",
    "            \"max_scores\": max(scores),\n",
    "            \"min_scores\": min(scores)\n",
    "        }\n",
    "        \n",
    "pool = Population(Config())\n",
    "winner = pool.run()\n",
    "pool.plot()"
   ]
  },
  {
   "cell_type": "code",
   "execution_count": 9,
   "id": "631299e6",
   "metadata": {},
   "outputs": [],
   "source": [
    "# genome = Population(Config()).new_genome()\n",
    "\n",
    "# env = SnakeEnv()\n",
    "# obs = env.reset()\n",
    "# done = False\n",
    "# scores = []\n",
    "\n",
    "# graph = Graph(genome)\n",
    "\n",
    "# # for _ in range(10000):\n",
    "# score = 0\n",
    "# while not done:\n",
    "\n",
    "#     outputs = graph.forward(obs)\n",
    "#     action = np.argmax(outputs)\n",
    "#     obs, reward, done, info = env.step(action)\n",
    "#     score += reward\n",
    "# #     scores.append(score)\n",
    "# # sum(scores)\n",
    "#     env.render()"
   ]
  }
 ],
 "metadata": {
  "kernelspec": {
   "display_name": "Python 3 (ipykernel)",
   "language": "python",
   "name": "python3"
  },
  "language_info": {
   "codemirror_mode": {
    "name": "ipython",
    "version": 3
   },
   "file_extension": ".py",
   "mimetype": "text/x-python",
   "name": "python",
   "nbconvert_exporter": "python",
   "pygments_lexer": "ipython3",
   "version": "3.8.10"
  }
 },
 "nbformat": 4,
 "nbformat_minor": 5
}
